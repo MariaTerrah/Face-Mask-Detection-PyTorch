{
  "nbformat": 4,
  "nbformat_minor": 0,
  "metadata": {
    "colab": {
      "provenance": [],
      "authorship_tag": "ABX9TyMVzpJCyVbgr12srvkN9e8Q",
      "include_colab_link": true
    },
    "kernelspec": {
      "name": "python3",
      "display_name": "Python 3"
    },
    "language_info": {
      "name": "python"
    }
  },
  "cells": [
    {
      "cell_type": "markdown",
      "metadata": {
        "id": "view-in-github",
        "colab_type": "text"
      },
      "source": [
        "<a href=\"https://colab.research.google.com/github/MariaTerrah/Face-Mask-Detection-PyTorch/blob/master/TestPythonServier.ipynb\" target=\"_parent\"><img src=\"https://colab.research.google.com/assets/colab-badge.svg\" alt=\"Open In Colab\"/></a>"
      ]
    },
    {
      "cell_type": "markdown",
      "source": [
        "# I) Python et Data Engineering"
      ],
      "metadata": {
        "id": "OV2Vifo1n2qn"
      }
    },
    {
      "cell_type": "code",
      "source": [
        "import pandas as pd\n",
        "import json\n"
      ],
      "metadata": {
        "id": "yvQ59gR7t2kv"
      },
      "execution_count": 44,
      "outputs": []
    },
    {
      "cell_type": "code",
      "execution_count": 45,
      "metadata": {
        "colab": {
          "base_uri": "https://localhost:8080/"
        },
        "id": "aJK16-xVQaum",
        "outputId": "75eaff63-1d13-4196-eddb-bc430fd1789e"
      },
      "outputs": [
        {
          "output_type": "stream",
          "name": "stdout",
          "text": [
            "Drugs Data:\n",
            "  atccode             drug\n",
            "0   A04AD  DIPHENHYDRAMINE\n",
            "1   S03AA     TETRACYCLINE\n",
            "2   V03AB          ETHANOL\n",
            "3   A03BA         ATROPINE\n",
            "4   A01AD      EPINEPHRINE\n",
            "\n",
            "Clinical Trials Data:\n",
            "            id  \\\n",
            "0  NCT01967433   \n",
            "1  NCT04189588   \n",
            "2  NCT04237090   \n",
            "3  NCT04237091   \n",
            "4  NCT04153396   \n",
            "\n",
            "                                                                                                                                                        scientific_title  \\\n",
            "0                                                                    Use of Diphenhydramine as an Adjunctive Sedative for Colonoscopy in Patients Chronically on Opioids   \n",
            "1                                                                                   Phase 2 Study IV QUZYTTIR™ (Cetirizine Hydrochloride Injection) vs V Diphenhydramine   \n",
            "2                                                                                                                                                                          \n",
            "3  Feasibility of a Randomized Controlled Clinical Trial Comparing the Use of Cetirizine to Replace Diphenhydramine in the Prevention of Reactions Related to Paclitaxel   \n",
            "4                                              Preemptive Infiltration With Betamethasone and Ropivacaine for Postoperative Pain in Laminoplasty or \\xc3\\xb1 Laminectomy   \n",
            "\n",
            "             date                            journal  \n",
            "0  1 January 2020       Journal of emergency nursing  \n",
            "1  1 January 2020       Journal of emergency nursing  \n",
            "2  1 January 2020       Journal of emergency nursing  \n",
            "3  1 January 2020       Journal of emergency nursing  \n",
            "4  1 January 2020  Hôpitaux Universitaires de Genève  \n",
            "\n",
            "PubMed CSV Data:\n",
            "   id  \\\n",
            "0   1   \n",
            "1   2   \n",
            "2   3   \n",
            "3   4   \n",
            "4   5   \n",
            "\n",
            "                                                                                                                             title  \\\n",
            "0                         A 44-year-old man with erythema of the face diphenhydramine, neck, and chest, weakness, and palpitations   \n",
            "1  An evaluation of benadryl, pyribenzamine, and other so-called diphenhydramine antihistaminic drugs in the treatment of allergy.   \n",
            "2                                                        Diphenhydramine hydrochloride helps symptoms of ciguatera fish poisoning.   \n",
            "3                                                        Tetracycline Resistance Patterns of Lactobacillus buchneri Group Strains.   \n",
            "4                                                                    Appositional Tetracycline bone formation rates in the Beagle.   \n",
            "\n",
            "         date                                  journal  \n",
            "0  01/01/2019             Journal of emergency nursing  \n",
            "1  01/01/2019             Journal of emergency nursing  \n",
            "2  02/01/2019                The Journal of pediatrics  \n",
            "3  01/01/2020               Journal of food protection  \n",
            "4  02/01/2020  American journal of veterinary research  \n",
            "\n",
            "PubMed JSON Data:\n",
            "   id  \\\n",
            "0   9   \n",
            "1  10   \n",
            "2  11   \n",
            "3  12   \n",
            "4       \n",
            "\n",
            "                                                                                                                                                                   title  \\\n",
            "0  Gold nanoparticles synthesized from Euphorbia fischeriana root by green route method alleviates the isoprenaline hydrochloride induced myocardial infarction in rats.   \n",
            "1                                                                           Clinical implications of umbilical artery Doppler changes after betamethasone administration   \n",
            "2                                                         Effects of Topical Application of Betamethasone on Imiquimod-induced Psoriasis-like Skin Inflammation in Mice.   \n",
            "3                              Comparison of pressure release, phonophoresis and dry needling in treatment of latent myofascial trigger point of upper trapezius muscle.   \n",
            "4       Comparison of pressure BETAMETHASONE release, phonophoresis and dry needling in treatment of latent myofascial trigger point of upper trapezius ATROPINE muscle.   \n",
            "\n",
            "         date                                                 journal  \n",
            "0  01/01/2020  Journal of photochemistry and photobiology. B, Biology  \n",
            "1  01/01/2020       The journal of maternal-fetal & neonatal medicine  \n",
            "2  01/01/2020      Journal of back and musculoskeletal rehabilitation  \n",
            "3  01/03/2020      Journal of back and musculoskeletal rehabilitation  \n",
            "4  01/03/2020       The journal of maternal-fetal & neonatal medicine  \n"
          ]
        }
      ],
      "source": [
        "\n",
        "\n",
        "# Chargement des fichiers CSV\n",
        "drugs_df = pd.read_csv('/content/drugs.csv')\n",
        "clinical_trials_df = pd.read_csv('/content/clinical_trials.csv',encoding='utf-8')\n",
        "pubmed_csv_df = pd.read_csv('/content/pubmed.csv')\n",
        "\n",
        "# Chargement du fichier JSON\n",
        "with open('/content/pubmed.json', 'r') as f:\n",
        "    pubmed_json_df = pd.DataFrame(json.load(f))\n",
        "\n",
        "# Visualisation des premières lignes\n",
        "print(\"Drugs Data:\")\n",
        "print(drugs_df.head())\n",
        "\n",
        "print(\"\\nClinical Trials Data:\")\n",
        "print(clinical_trials_df.head())\n",
        "\n",
        "print(\"\\nPubMed CSV Data:\")\n",
        "print(pubmed_csv_df.head())\n",
        "\n",
        "print(\"\\nPubMed JSON Data:\")\n",
        "print(pubmed_json_df.head())\n"
      ]
    },
    {
      "cell_type": "markdown",
      "source": [
        "# Data cleansing"
      ],
      "metadata": {
        "id": "qKmgsDi5ar2v"
      }
    },
    {
      "cell_type": "markdown",
      "source": [
        "Dans cette étape de cleansing , l'idée est d'appliquer un ensemble de traitement pour nettoyer et uniformiser la donnée :\n",
        "\n",
        "1.   Conversion en minuscule : comme Python est case-sensitive donc cette conversion est nécéssaire pour indiquer par exemple que DIPHENHYDRAMINE et diphenhydramine font référence à la même chose.\n",
        "2.   Suppression des espaces non nécéssaires.\n",
        "3.   Uniformisation du format des dates : les dates dans les fichiers ont plusieurs format différents ( 01/01/2019 , 2020-01-01 , \"1 January 2020\" ) donc il faut uniformiser le format pour pouvoir les traiter.\n",
        "4. Gestion du mauvais encodage : exemple \"Journal of emergency nursing\\xc3\\x28\".\n",
        "\n",
        "\n",
        "\n"
      ],
      "metadata": {
        "id": "_Unv8x1TaypR"
      }
    },
    {
      "cell_type": "code",
      "source": [
        "\n",
        "\n",
        "def format_date(df, date_column):\n",
        "    df[date_column] = pd.to_datetime(df[date_column], errors='coerce', format=None)\n",
        "    df[date_column] = df[date_column].dt.strftime('%Y-%m-%d')\n",
        "    return df\n",
        "\n",
        "clinical_trials_df = format_date(clinical_trials_df, 'date')\n",
        "pubmed_csv_df = format_date(pubmed_csv_df, 'date')\n",
        "pubmed_json_df = format_date(pubmed_json_df, 'date')\n",
        "\n"
      ],
      "metadata": {
        "id": "aV8eqMJqtjLM"
      },
      "execution_count": 46,
      "outputs": []
    },
    {
      "cell_type": "code",
      "source": [
        "\n",
        "print(\"\\nClinical Trials Data:\")\n",
        "print(clinical_trials_df.head())\n",
        "\n",
        "print(\"\\nPubMed CSV Data:\")\n",
        "print(pubmed_csv_df.head())\n",
        "\n",
        "print(\"\\nPubMed JSON Data:\")\n",
        "print(pubmed_json_df.head())"
      ],
      "metadata": {
        "colab": {
          "base_uri": "https://localhost:8080/"
        },
        "id": "AEVENg_SufMH",
        "outputId": "eafb50a0-8a27-46b3-ba5b-e7b4e0b36b3e"
      },
      "execution_count": 25,
      "outputs": [
        {
          "output_type": "stream",
          "name": "stdout",
          "text": [
            "\n",
            "Clinical Trials Data:\n",
            "            id  \\\n",
            "0  NCT01967433   \n",
            "1  NCT04189588   \n",
            "2  NCT04237090   \n",
            "3  NCT04237091   \n",
            "4  NCT04153396   \n",
            "\n",
            "                                                                                                                                                        scientific_title  \\\n",
            "0                                                                    Use of Diphenhydramine as an Adjunctive Sedative for Colonoscopy in Patients Chronically on Opioids   \n",
            "1                                                                                   Phase 2 Study IV QUZYTTIR™ (Cetirizine Hydrochloride Injection) vs V Diphenhydramine   \n",
            "2                                                                                                                                                                          \n",
            "3  Feasibility of a Randomized Controlled Clinical Trial Comparing the Use of Cetirizine to Replace Diphenhydramine in the Prevention of Reactions Related to Paclitaxel   \n",
            "4                                              Preemptive Infiltration With Betamethasone and Ropivacaine for Postoperative Pain in Laminoplasty or \\xc3\\xb1 Laminectomy   \n",
            "\n",
            "         date                            journal  \n",
            "0  2020-01-01       Journal of emergency nursing  \n",
            "1  2020-01-01       Journal of emergency nursing  \n",
            "2  2020-01-01       Journal of emergency nursing  \n",
            "3  2020-01-01       Journal of emergency nursing  \n",
            "4  2020-01-01  Hôpitaux Universitaires de Genève  \n",
            "\n",
            "PubMed CSV Data:\n",
            "   id  \\\n",
            "0   1   \n",
            "1   2   \n",
            "2   3   \n",
            "3   4   \n",
            "4   5   \n",
            "\n",
            "                                                                                                                             title  \\\n",
            "0                         A 44-year-old man with erythema of the face diphenhydramine, neck, and chest, weakness, and palpitations   \n",
            "1  An evaluation of benadryl, pyribenzamine, and other so-called diphenhydramine antihistaminic drugs in the treatment of allergy.   \n",
            "2                                                        Diphenhydramine hydrochloride helps symptoms of ciguatera fish poisoning.   \n",
            "3                                                        Tetracycline Resistance Patterns of Lactobacillus buchneri Group Strains.   \n",
            "4                                                                    Appositional Tetracycline bone formation rates in the Beagle.   \n",
            "\n",
            "         date                                  journal  \n",
            "0  2019-01-01             Journal of emergency nursing  \n",
            "1  2019-01-01             Journal of emergency nursing  \n",
            "2  2019-02-01                The Journal of pediatrics  \n",
            "3  2020-01-01               Journal of food protection  \n",
            "4  2020-02-01  American journal of veterinary research  \n",
            "\n",
            "PubMed JSON Data:\n",
            "   id  \\\n",
            "0   9   \n",
            "1  10   \n",
            "2  11   \n",
            "3  12   \n",
            "4       \n",
            "\n",
            "                                                                                                                                                                   title  \\\n",
            "0  Gold nanoparticles synthesized from Euphorbia fischeriana root by green route method alleviates the isoprenaline hydrochloride induced myocardial infarction in rats.   \n",
            "1                                                                           Clinical implications of umbilical artery Doppler changes after betamethasone administration   \n",
            "2                                                         Effects of Topical Application of Betamethasone on Imiquimod-induced Psoriasis-like Skin Inflammation in Mice.   \n",
            "3                              Comparison of pressure release, phonophoresis and dry needling in treatment of latent myofascial trigger point of upper trapezius muscle.   \n",
            "4       Comparison of pressure BETAMETHASONE release, phonophoresis and dry needling in treatment of latent myofascial trigger point of upper trapezius ATROPINE muscle.   \n",
            "\n",
            "         date                                                 journal  \n",
            "0  2020-01-01  Journal of photochemistry and photobiology. B, Biology  \n",
            "1  2020-01-01       The journal of maternal-fetal & neonatal medicine  \n",
            "2  2020-01-01      Journal of back and musculoskeletal rehabilitation  \n",
            "3  2020-01-03      Journal of back and musculoskeletal rehabilitation  \n",
            "4  2020-01-03       The journal of maternal-fetal & neonatal medicine  \n"
          ]
        }
      ]
    },
    {
      "cell_type": "code",
      "source": [
        "# Fonction pour corriger les problèmes d'encodage dans les colonnes de texte\n",
        "def correct_encoding(text):\n",
        "    if isinstance(text, str):\n",
        "        try:\n",
        "            # Décoder les séquences d'échappement comme \\\\xc3\\\\x28 en UTF-8\n",
        "            text = bytes(text, 'utf-8').decode('unicode_escape')\n",
        "            # Corriger les séquences mal encodées\n",
        "            text = text.encode('latin1').decode('utf-8', errors='ignore')\n",
        "        except UnicodeDecodeError:\n",
        "            pass  # En cas d'erreur, on laisse le texte inchangé\n",
        "    return text\n",
        "\n",
        "# Fonction pour appliquer le nettoyage sur les colonnes de texte des DataFrames\n",
        "def clean_text_columns(df):\n",
        "    text_columns = df.select_dtypes(include=['object']).columns\n",
        "    for column in text_columns:\n",
        "        df[column] = df[column].apply(correct_encoding)\n",
        "    return df\n",
        "\n",
        "# Appliquer la fonction de nettoyage sur les DataFrames\n",
        "clinical_trials_df = clean_text_columns(clinical_trials_df)\n",
        "pubmed_csv_df = clean_text_columns(pubmed_csv_df)\n",
        "pubmed_json_df = clean_text_columns(pubmed_json_df)\n",
        "\n",
        "# Définir les options pour afficher toutes les colonnes et le contenu complet des cellules\n",
        "pd.set_option('display.max_colwidth', None)  # Pour afficher le contenu complet des cellules\n",
        "pd.set_option('display.max_columns', None)   # Pour afficher toutes les colonnes\n",
        "pd.set_option('display.max_rows', None)      # Pour afficher toutes les lignes (facultatif)\n",
        "\n",
        "# Réafficher les DataFrames\n",
        "print(clinical_trials_df)\n",
        "print(pubmed_csv_df)\n",
        "print(pubmed_json_df)\n"
      ],
      "metadata": {
        "colab": {
          "base_uri": "https://localhost:8080/"
        },
        "id": "GQp-4oguht8b",
        "outputId": "011b8fac-2bd2-4989-f538-39c044529162"
      },
      "execution_count": 48,
      "outputs": [
        {
          "output_type": "stream",
          "name": "stdout",
          "text": [
            "            id  \\\n",
            "0  NCT01967433   \n",
            "1  NCT04189588   \n",
            "2  NCT04237090   \n",
            "3  NCT04237091   \n",
            "4  NCT04153396   \n",
            "5  NCT03490942   \n",
            "6          NaN   \n",
            "7  NCT04188184   \n",
            "\n",
            "                                                                                                                                                        scientific_title  \\\n",
            "0                                                                    Use of Diphenhydramine as an Adjunctive Sedative for Colonoscopy in Patients Chronically on Opioids   \n",
            "1                                                                                   Phase 2 Study IV QUZYTTIR™ (Cetirizine Hydrochloride Injection) vs V Diphenhydramine   \n",
            "2                                                                                                                                                                          \n",
            "3  Feasibility of a Randomized Controlled Clinical Trial Comparing the Use of Cetirizine to Replace Diphenhydramine in the Prevention of Reactions Related to Paclitaxel   \n",
            "4                                                     Preemptive Infiltration With Betamethasone and Ropivacaine for Postoperative Pain in Laminoplasty or ñ Laminectomy   \n",
            "5                                                          Glucagon Infusion in T1D Patients With Recurrent Severe Hypoglycemia: Effects on Counter-Regulatory Responses   \n",
            "6                                                          Glucagon Infusion in T1D Patients With Recurrent Severe Hypoglycemia: Effects on Counter-Regulatory Responses   \n",
            "7                                                                                                      Tranexamic Acid Versus Epinephrine During Exploratory Tympanotomy   \n",
            "\n",
            "         date                            journal  \n",
            "0  2020-01-01       Journal of emergency nursing  \n",
            "1  2020-01-01       Journal of emergency nursing  \n",
            "2  2020-01-01       Journal of emergency nursing  \n",
            "3  2020-01-01       Journal of emergency nursing  \n",
            "4  2020-01-01  Hôpitaux Universitaires de Genève  \n",
            "5         NaN                                NaN  \n",
            "6         NaN       Journal of emergency nursing  \n",
            "7  2020-04-27      Journal of emergency nursing(  \n",
            "   id  \\\n",
            "0   1   \n",
            "1   2   \n",
            "2   3   \n",
            "3   4   \n",
            "4   5   \n",
            "5   6   \n",
            "6   7   \n",
            "7   8   \n",
            "\n",
            "                                                                                                                                                                    title  \\\n",
            "0                                                                A 44-year-old man with erythema of the face diphenhydramine, neck, and chest, weakness, and palpitations   \n",
            "1                                         An evaluation of benadryl, pyribenzamine, and other so-called diphenhydramine antihistaminic drugs in the treatment of allergy.   \n",
            "2                                                                                               Diphenhydramine hydrochloride helps symptoms of ciguatera fish poisoning.   \n",
            "3                                                                                               Tetracycline Resistance Patterns of Lactobacillus buchneri Group Strains.   \n",
            "4                                                                                                           Appositional Tetracycline bone formation rates in the Beagle.   \n",
            "5  Rapid reacquisition of contextual fear following extinction in mice: effects of amount of extinction, tetracycline acute ethanol withdrawal, and ethanol intoxication.   \n",
            "6                                                                                                   The High Cost of Epinephrine Autoinjectors and Possible Alternatives.   \n",
            "7           Time to epinephrine treatment is associated with the risk of mortality in children who achieve sustained ROSC after traumatic out-of-hospital cardiac arrest.   \n",
            "\n",
            "         date                                                      journal  \n",
            "0  2019-01-01                                 Journal of emergency nursing  \n",
            "1  2019-01-01                                 Journal of emergency nursing  \n",
            "2  2019-02-01                                    The Journal of pediatrics  \n",
            "3  2020-01-01                                   Journal of food protection  \n",
            "4  2020-02-01                      American journal of veterinary research  \n",
            "5         NaN                                           Psychopharmacology  \n",
            "6  2020-01-02  The journal of allergy and clinical immunology. In practice  \n",
            "7  2020-01-03  The journal of allergy and clinical immunology. In practice  \n",
            "   id  \\\n",
            "0   9   \n",
            "1  10   \n",
            "2  11   \n",
            "3  12   \n",
            "4       \n",
            "\n",
            "                                                                                                                                                                   title  \\\n",
            "0  Gold nanoparticles synthesized from Euphorbia fischeriana root by green route method alleviates the isoprenaline hydrochloride induced myocardial infarction in rats.   \n",
            "1                                                                           Clinical implications of umbilical artery Doppler changes after betamethasone administration   \n",
            "2                                                         Effects of Topical Application of Betamethasone on Imiquimod-induced Psoriasis-like Skin Inflammation in Mice.   \n",
            "3                              Comparison of pressure release, phonophoresis and dry needling in treatment of latent myofascial trigger point of upper trapezius muscle.   \n",
            "4       Comparison of pressure BETAMETHASONE release, phonophoresis and dry needling in treatment of latent myofascial trigger point of upper trapezius ATROPINE muscle.   \n",
            "\n",
            "         date                                                 journal  \n",
            "0  2020-01-01  Journal of photochemistry and photobiology. B, Biology  \n",
            "1  2020-01-01       The journal of maternal-fetal & neonatal medicine  \n",
            "2  2020-01-01      Journal of back and musculoskeletal rehabilitation  \n",
            "3  2020-01-03      Journal of back and musculoskeletal rehabilitation  \n",
            "4  2020-01-03       The journal of maternal-fetal & neonatal medicine  \n"
          ]
        }
      ]
    },
    {
      "cell_type": "code",
      "source": [
        "\n",
        "print(\"\\nClinical Trials Data:\")\n",
        "print(clinical_trials_df)\n",
        "\n",
        "print(\"\\nPubMed CSV Data:\")\n",
        "print(pubmed_csv_df)\n",
        "\n",
        "print(\"\\nPubMed JSON Data:\")\n",
        "print(pubmed_json_df)"
      ],
      "metadata": {
        "colab": {
          "base_uri": "https://localhost:8080/"
        },
        "id": "X0WNcHLayycp",
        "outputId": "dc14e051-2222-4b46-b77a-adc6985d56a9"
      },
      "execution_count": 27,
      "outputs": [
        {
          "output_type": "stream",
          "name": "stdout",
          "text": [
            "\n",
            "Clinical Trials Data:\n",
            "            id                                   scientific_title        date  \\\n",
            "0  NCT01967433  Use of Diphenhydramine as an Adjunctive Sedati...  2020-01-01   \n",
            "1  NCT04189588  Phase 2 Study IV QUZYTTIR? (Cetirizine Hydroch...  2020-01-01   \n",
            "2  NCT04237090                                                     2020-01-01   \n",
            "3  NCT04237091  Feasibility of a Randomized Controlled Clinica...  2020-01-01   \n",
            "4  NCT04153396  Preemptive Infiltration With Betamethasone and...  2020-01-01   \n",
            "5  NCT03490942  Glucagon Infusion in T1D Patients With Recurre...         NaN   \n",
            "6          NaN  Glucagon Infusion in T1D Patients With Recurre...         NaN   \n",
            "7  NCT04188184  Tranexamic Acid Versus Epinephrine During Expl...  2020-04-27   \n",
            "\n",
            "                                journal  \n",
            "0          Journal of emergency nursing  \n",
            "1          Journal of emergency nursing  \n",
            "2          Journal of emergency nursing  \n",
            "3          Journal of emergency nursing  \n",
            "4       Hpitaux Universitaires de Genve  \n",
            "5                                   NaN  \n",
            "6          Journal of emergency nursing  \n",
            "7  Journal of emergency nursing\\xc3\\x28  \n",
            "\n",
            "PubMed CSV Data:\n",
            "   id                                              title        date  \\\n",
            "0   1  A 44-year-old man with erythema of the face di...  2019-01-01   \n",
            "1   2  An evaluation of benadryl, pyribenzamine, and ...  2019-01-01   \n",
            "2   3  Diphenhydramine hydrochloride helps symptoms o...  2019-02-01   \n",
            "3   4  Tetracycline Resistance Patterns of Lactobacil...  2020-01-01   \n",
            "4   5  Appositional Tetracycline bone formation rates...  2020-02-01   \n",
            "5   6  Rapid reacquisition of contextual fear followi...         NaN   \n",
            "6   7  The High Cost of Epinephrine Autoinjectors and...  2020-01-02   \n",
            "7   8  Time to epinephrine treatment is associated wi...  2020-01-03   \n",
            "\n",
            "                                             journal  \n",
            "0                       Journal of emergency nursing  \n",
            "1                       Journal of emergency nursing  \n",
            "2                          The Journal of pediatrics  \n",
            "3                         Journal of food protection  \n",
            "4            American journal of veterinary research  \n",
            "5                                 Psychopharmacology  \n",
            "6  The journal of allergy and clinical immunology...  \n",
            "7  The journal of allergy and clinical immunology...  \n",
            "\n",
            "PubMed JSON Data:\n",
            "   id                                              title        date  \\\n",
            "0   9  Gold nanoparticles synthesized from Euphorbia ...  2020-01-01   \n",
            "1  10  Clinical implications of umbilical artery Dopp...  2020-01-01   \n",
            "2  11  Effects of Topical Application of Betamethason...  2020-01-01   \n",
            "3  12  Comparison of pressure release, phonophoresis ...  2020-01-03   \n",
            "4      Comparison of pressure BETAMETHASONE release, ...  2020-01-03   \n",
            "\n",
            "                                             journal  \n",
            "0  Journal of photochemistry and photobiology. B,...  \n",
            "1  The journal of maternal-fetal & neonatal medicine  \n",
            "2  Journal of back and musculoskeletal rehabilita...  \n",
            "3  Journal of back and musculoskeletal rehabilita...  \n",
            "4  The journal of maternal-fetal & neonatal medicine  \n"
          ]
        }
      ]
    },
    {
      "cell_type": "code",
      "source": [
        "# Fonction pour nettoyer et normaliser les chaînes de caractères dans une colonne spécifique\n",
        "def clean_text_column(column):\n",
        "    \"\"\"\n",
        "    Nettoyer les chaînes de caractères dans une colonne de type texte.\n",
        "    Appliquer uniquement aux éléments de type chaîne (texte) dans la colonne.\n",
        "    \"\"\"\n",
        "    return column.apply(lambda x: x.lower().strip() if isinstance(x, str) else x)\n"
      ],
      "metadata": {
        "id": "FTCg463Jso55"
      },
      "execution_count": 16,
      "outputs": []
    },
    {
      "cell_type": "code",
      "source": [
        "# Appliquer clean_text_column sur des colonnes spécifiques dans clinical_trials_df\n",
        "clinical_trials_df['scientific_title'] = clean_text_column(clinical_trials_df['scientific_title'])\n",
        "\n",
        "# Appliquer clean_text_column sur la colonne 'title' dans pubmed_csv_df\n",
        "pubmed_csv_df['title'] = clean_text_column(pubmed_csv_df['title'])\n",
        "\n",
        "# Appliquer clean_text_column sur la colonne 'title' dans pubmed_json_df\n",
        "pubmed_json_df['title'] = clean_text_column(pubmed_json_df['title'])\n",
        "\n",
        "# Appliquer clean_text_column sur la colonne 'drug_name' dans drugs_df (exemple pour les médicaments)\n",
        "drugs_df['drug_name'] = clean_text_column(drugs_df['drug_name'])\n"
      ],
      "metadata": {
        "colab": {
          "base_uri": "https://localhost:8080/"
        },
        "id": "679v1G3xvHKE",
        "outputId": "53799035-8c06-47a7-d295-157819a0c7e8"
      },
      "execution_count": 17,
      "outputs": [
        {
          "output_type": "stream",
          "name": "stderr",
          "text": [
            "<ipython-input-17-520820783ae9>:1: FutureWarning: DataFrame.applymap has been deprecated. Use DataFrame.map instead.\n",
            "  clinical_trials_df = clinical_trials_df.applymap(clean_text)\n",
            "<ipython-input-17-520820783ae9>:2: FutureWarning: DataFrame.applymap has been deprecated. Use DataFrame.map instead.\n",
            "  pubmed_csv_df = pubmed_csv_df.applymap(clean_text)\n",
            "<ipython-input-17-520820783ae9>:3: FutureWarning: DataFrame.applymap has been deprecated. Use DataFrame.map instead.\n",
            "  pubmed_json_df = pubmed_json_df.applymap(clean_text)\n",
            "<ipython-input-17-520820783ae9>:4: FutureWarning: DataFrame.applymap has been deprecated. Use DataFrame.map instead.\n",
            "  drugs_df = drugs_df.applymap(clean_text)\n"
          ]
        }
      ]
    },
    {
      "cell_type": "code",
      "source": [
        "print(\"\\nClinical Trials Data:\")\n",
        "print(clinical_trials_df)\n",
        "\n",
        "print(\"\\nPubMed CSV Data:\")\n",
        "print(pubmed_csv_df)\n",
        "\n",
        "print(\"\\nPubMed JSON Data:\")\n",
        "print(pubmed_json_df)\n",
        "\n",
        "print(\"\\Drugs Data:\")\n",
        "print(drugs_df)"
      ],
      "metadata": {
        "colab": {
          "base_uri": "https://localhost:8080/"
        },
        "id": "2YkLpzHutkx1",
        "outputId": "5e1490d4-c147-47d4-bba8-136c8eaf02bd"
      },
      "execution_count": 18,
      "outputs": [
        {
          "output_type": "stream",
          "name": "stdout",
          "text": [
            "\n",
            "Clinical Trials Data:\n",
            "            id                                   scientific_title        date  \\\n",
            "0  NCT01967433  Use of Diphenhydramine as an Adjunctive Sedati...  2020-01-01   \n",
            "1  NCT04189588  Phase 2 Study IV QUZYTTIR? (Cetirizine Hydroch...  2020-01-01   \n",
            "2  NCT04237090                                                     2020-01-01   \n",
            "3  NCT04237091  Feasibility of a Randomized Controlled Clinica...  2020-01-01   \n",
            "4  NCT04153396  Preemptive Infiltration With Betamethasone and...  2020-01-01   \n",
            "5  NCT03490942  Glucagon Infusion in T1D Patients With Recurre...         NaN   \n",
            "6          NaN  Glucagon Infusion in T1D Patients With Recurre...         NaN   \n",
            "7  NCT04188184  Tranexamic Acid Versus Epinephrine During Expl...  2020-04-27   \n",
            "\n",
            "                                journal  \n",
            "0          Journal of emergency nursing  \n",
            "1          Journal of emergency nursing  \n",
            "2          Journal of emergency nursing  \n",
            "3          Journal of emergency nursing  \n",
            "4       Hpitaux Universitaires de Genve  \n",
            "5                                   NaN  \n",
            "6          Journal of emergency nursing  \n",
            "7  Journal of emergency nursing\\xc3\\x28  \n",
            "\n",
            "PubMed CSV Data:\n",
            "   id                                              title        date  \\\n",
            "0   1  A 44-year-old man with erythema of the face di...  2019-01-01   \n",
            "1   2  An evaluation of benadryl, pyribenzamine, and ...  2019-01-01   \n",
            "2   3  Diphenhydramine hydrochloride helps symptoms o...  2019-02-01   \n",
            "3   4  Tetracycline Resistance Patterns of Lactobacil...  2020-01-01   \n",
            "4   5  Appositional Tetracycline bone formation rates...  2020-02-01   \n",
            "5   6  Rapid reacquisition of contextual fear followi...         NaN   \n",
            "6   7  The High Cost of Epinephrine Autoinjectors and...  2020-01-02   \n",
            "7   8  Time to epinephrine treatment is associated wi...  2020-01-03   \n",
            "\n",
            "                                             journal  \n",
            "0                       Journal of emergency nursing  \n",
            "1                       Journal of emergency nursing  \n",
            "2                          The Journal of pediatrics  \n",
            "3                         Journal of food protection  \n",
            "4            American journal of veterinary research  \n",
            "5                                 psychopharmacology  \n",
            "6  The journal of allergy and clinical immunology...  \n",
            "7  The journal of allergy and clinical immunology...  \n",
            "\n",
            "PubMed JSON Data:\n",
            "   id                                              title        date  \\\n",
            "0   9  Gold nanoparticles synthesized from Euphorbia ...  2020-01-01   \n",
            "1  10  Clinical implications of umbilical artery Dopp...  2020-01-01   \n",
            "2  11  Effects of Topical Application of Betamethason...  2020-01-01   \n",
            "3  12  Comparison of pressure release, phonophoresis ...  2020-01-03   \n",
            "4      Comparison of pressure BETAMETHASONE release, ...  2020-01-03   \n",
            "\n",
            "                                             journal  \n",
            "0  Journal of photochemistry and photobiology. B,...  \n",
            "1  The journal of maternal-fetal & neonatal medicine  \n",
            "2  Journal of back and musculoskeletal rehabilita...  \n",
            "3  Journal of back and musculoskeletal rehabilita...  \n",
            "4  The journal of maternal-fetal & neonatal medicine  \n",
            "\\Drugs Data:\n",
            "   atccode             drug\n",
            "0    A04AD  diphenhydramine\n",
            "1    S03AA     tetracycline\n",
            "2    V03AB          ethanol\n",
            "3    A03BA         atropine\n",
            "4    A01AD      epinephrine\n",
            "5  6302001     isoprenaline\n",
            "6    R01AD    betamethasone\n"
          ]
        }
      ]
    },
    {
      "cell_type": "markdown",
      "source": [
        "# Data pipeline\n",
        "\n",
        "\n",
        "1.  Mention des médicaments\n"
      ],
      "metadata": {
        "id": "eG1qv-A129DC"
      }
    },
    {
      "cell_type": "code",
      "source": [
        "# Fonction pour trouver les mentions des médicaments dans les titres\n",
        "def find_mentions(df, title, drugs):\n",
        "    mentions = []\n",
        "    for drug in drugs:\n",
        "        matches = df[df[title].str.contains(drug, case=False, na=False)]\n",
        "        for _, row in matches.iterrows():\n",
        "            mentions.append({\n",
        "                'drug': drug,\n",
        "                'title': row[title],\n",
        "                'journal': row['journal'],\n",
        "                'date': row['date'],\n",
        "\n",
        "            })\n",
        "    return mentions\n"
      ],
      "metadata": {
        "id": "bYJeKVP83Z9N"
      },
      "execution_count": 40,
      "outputs": []
    },
    {
      "cell_type": "code",
      "source": [
        " #Obtenir la liste des médicaments à partir du fichier drugs.csv\n",
        "drugs = drugs_df['drug'].tolist()\n",
        "\n",
        "# Trouver les mentions dans les différents jeux de données\n",
        "clinical_trials_mentions = find_mentions(clinical_trials_df, 'scientific_title', drugs)\n",
        "pubmed_csv_mentions = find_mentions(pubmed_csv_df, 'title', drugs)\n",
        "pubmed_json_mentions = find_mentions(pubmed_json_df, 'title', drugs)\n",
        "\n",
        "# Combiner toutes les mentions dans un seul DataFrame\n",
        "all_mentions = clinical_trials_mentions + pubmed_csv_mentions + pubmed_json_mentions\n",
        "mentions_df = pd.DataFrame(all_mentions)\n",
        "\n",
        "# Visualiser quelques lignes des mentions trouvées\n",
        "print(mentions_df.head())"
      ],
      "metadata": {
        "colab": {
          "base_uri": "https://localhost:8080/"
        },
        "id": "mfMlcp5C3lT6",
        "outputId": "41015cfc-98c0-42ec-a0ca-c669d3a137ee"
      },
      "execution_count": 41,
      "outputs": [
        {
          "output_type": "stream",
          "name": "stdout",
          "text": [
            "              drug  \\\n",
            "0  DIPHENHYDRAMINE   \n",
            "1  DIPHENHYDRAMINE   \n",
            "2  DIPHENHYDRAMINE   \n",
            "3      EPINEPHRINE   \n",
            "4    BETAMETHASONE   \n",
            "\n",
            "                                                                                                                                                                   title  \\\n",
            "0                                                                    Use of Diphenhydramine as an Adjunctive Sedative for Colonoscopy in Patients Chronically on Opioids   \n",
            "1                                                                                   Phase 2 Study IV QUZYTTIR™ (Cetirizine Hydrochloride Injection) vs V Diphenhydramine   \n",
            "2  Feasibility of a Randomized Controlled Clinical Trial Comparing the Use of Cetirizine to Replace Diphenhydramine in the Prevention of Reactions Related to Paclitaxel   \n",
            "3                                                                                                      Tranexamic Acid Versus Epinephrine During Exploratory Tympanotomy   \n",
            "4                                                     Preemptive Infiltration With Betamethasone and Ropivacaine for Postoperative Pain in Laminoplasty or ñ Laminectomy   \n",
            "\n",
            "                             journal        date  \n",
            "0       Journal of emergency nursing  2020-01-01  \n",
            "1       Journal of emergency nursing  2020-01-01  \n",
            "2       Journal of emergency nursing  2020-01-01  \n",
            "3      Journal of emergency nursing(  2020-04-27  \n",
            "4  Hôpitaux Universitaires de Genève  2020-01-01  \n"
          ]
        }
      ]
    },
    {
      "cell_type": "code",
      "source": [
        "\n",
        "\n",
        "# Fonction pour trouver les mentions de médicaments, générer le fichier JSON, et afficher le contenu\n",
        "def get_mentions_graph(df_list, titles, drugs_list,sources, output_file):\n",
        "    mentions_graph = {}\n",
        "\n",
        "    # Parcourir chaque DataFrame dans la liste des sources\n",
        "    for df, title, source in zip(df_list, titles, sources):\n",
        "        for drug in drugs_list:\n",
        "            # Rechercher les mentions dans la colonne des titres spécifique à ce DataFrame\n",
        "            matches = df[df[title].str.contains(drug, case=False, na=False)]\n",
        "            for _, row in matches.iterrows():\n",
        "                # Créer un nœud pour chaque médicament s'il n'existe pas encore\n",
        "                if drug not in mentions_graph:\n",
        "                    mentions_graph[drug] = []\n",
        "\n",
        "                # Ajouter chaque mention comme une liaison avec journal, date et titre\n",
        "                mentions_graph[drug].append({\n",
        "                    'journal': row['journal'],\n",
        "                    'date': row['date'],\n",
        "                    'title': row[title],\n",
        "                    'type': source\n",
        "                })\n",
        "\n",
        "    # Exporter directement le graphe en fichier JSON\n",
        "    with open(output_file, 'w') as json_file:\n",
        "        json.dump(mentions_graph, json_file, indent=4)\n",
        "\n",
        "    # Afficher le contenu de mentions_graph\n",
        "    print(json.dumps(mentions_graph, indent=4))\n",
        "\n",
        "    print(f\"Fichier JSON généré : {output_file}\")\n",
        "\n"
      ],
      "metadata": {
        "id": "wohfBRQGD3AT"
      },
      "execution_count": 51,
      "outputs": []
    },
    {
      "cell_type": "code",
      "source": [
        "\n",
        "# Liste des médicaments\n",
        "drug_names = drugs_df['drug'].tolist()\n",
        "\n",
        "# Liste des DataFrames (Clinical Trials, PubMed CSV, PubMed JSON)\n",
        "df_list = [clinical_trials_df, pubmed_csv_df, pubmed_json_df]\n",
        "\n",
        "# Liste des colonnes de titre spécifiques à chaque DataFrame\n",
        "titles = ['scientific_title', 'title', 'title']\n",
        "\n",
        "sources = ['ClinicalTrials', 'PubMed', 'PubMed']\n",
        "\n",
        "# Appeler la fonction pour générer directement le fichier JSON et afficher le graphe\n",
        "get_mentions_graph(df_list, titles, drug_names,sources, 'mentions_graph_output.json')"
      ],
      "metadata": {
        "colab": {
          "base_uri": "https://localhost:8080/"
        },
        "id": "dxNlzQelQ4gG",
        "outputId": "2e8a77b1-617a-482b-9f92-bc6481ad2cb5"
      },
      "execution_count": 52,
      "outputs": [
        {
          "output_type": "stream",
          "name": "stdout",
          "text": [
            "{\n",
            "    \"DIPHENHYDRAMINE\": [\n",
            "        {\n",
            "            \"journal\": \"Journal of emergency nursing\",\n",
            "            \"date\": \"2020-01-01\",\n",
            "            \"title\": \"Use of Diphenhydramine as an Adjunctive Sedative for Colonoscopy in Patients Chronically on Opioids\",\n",
            "            \"type\": \"ClinicalTrials\"\n",
            "        },\n",
            "        {\n",
            "            \"journal\": \"Journal of emergency nursing\",\n",
            "            \"date\": \"2020-01-01\",\n",
            "            \"title\": \"Phase 2 Study IV QUZYTTIR\\u2122 (Cetirizine Hydrochloride Injection) vs V Diphenhydramine\",\n",
            "            \"type\": \"ClinicalTrials\"\n",
            "        },\n",
            "        {\n",
            "            \"journal\": \"Journal of emergency nursing\",\n",
            "            \"date\": \"2020-01-01\",\n",
            "            \"title\": \"Feasibility of a Randomized Controlled Clinical Trial Comparing the Use of Cetirizine to Replace Diphenhydramine in the Prevention of Reactions Related to Paclitaxel\",\n",
            "            \"type\": \"ClinicalTrials\"\n",
            "        },\n",
            "        {\n",
            "            \"journal\": \"Journal of emergency nursing\",\n",
            "            \"date\": \"2019-01-01\",\n",
            "            \"title\": \"A 44-year-old man with erythema of the face diphenhydramine, neck, and chest, weakness, and palpitations\",\n",
            "            \"type\": \"PubMed\"\n",
            "        },\n",
            "        {\n",
            "            \"journal\": \"Journal of emergency nursing\",\n",
            "            \"date\": \"2019-01-01\",\n",
            "            \"title\": \"An evaluation of benadryl, pyribenzamine, and other so-called diphenhydramine antihistaminic drugs in the treatment of allergy.\",\n",
            "            \"type\": \"PubMed\"\n",
            "        },\n",
            "        {\n",
            "            \"journal\": \"The Journal of pediatrics\",\n",
            "            \"date\": \"2019-02-01\",\n",
            "            \"title\": \"Diphenhydramine hydrochloride helps symptoms of ciguatera fish poisoning.\",\n",
            "            \"type\": \"PubMed\"\n",
            "        }\n",
            "    ],\n",
            "    \"EPINEPHRINE\": [\n",
            "        {\n",
            "            \"journal\": \"Journal of emergency nursing(\",\n",
            "            \"date\": \"2020-04-27\",\n",
            "            \"title\": \"Tranexamic Acid Versus Epinephrine During Exploratory Tympanotomy\",\n",
            "            \"type\": \"ClinicalTrials\"\n",
            "        },\n",
            "        {\n",
            "            \"journal\": \"The journal of allergy and clinical immunology. In practice\",\n",
            "            \"date\": \"2020-01-02\",\n",
            "            \"title\": \"The High Cost of Epinephrine Autoinjectors and Possible Alternatives.\",\n",
            "            \"type\": \"PubMed\"\n",
            "        },\n",
            "        {\n",
            "            \"journal\": \"The journal of allergy and clinical immunology. In practice\",\n",
            "            \"date\": \"2020-01-03\",\n",
            "            \"title\": \"Time to epinephrine treatment is associated with the risk of mortality in children who achieve sustained ROSC after traumatic out-of-hospital cardiac arrest.\",\n",
            "            \"type\": \"PubMed\"\n",
            "        }\n",
            "    ],\n",
            "    \"BETAMETHASONE\": [\n",
            "        {\n",
            "            \"journal\": \"H\\u00f4pitaux Universitaires de Gen\\u00e8ve\",\n",
            "            \"date\": \"2020-01-01\",\n",
            "            \"title\": \"Preemptive Infiltration With Betamethasone and Ropivacaine for Postoperative Pain in Laminoplasty or \\u00f1 Laminectomy\",\n",
            "            \"type\": \"ClinicalTrials\"\n",
            "        },\n",
            "        {\n",
            "            \"journal\": \"The journal of maternal-fetal & neonatal medicine\",\n",
            "            \"date\": \"2020-01-01\",\n",
            "            \"title\": \"Clinical implications of umbilical artery Doppler changes after betamethasone administration\",\n",
            "            \"type\": \"PubMed\"\n",
            "        },\n",
            "        {\n",
            "            \"journal\": \"Journal of back and musculoskeletal rehabilitation\",\n",
            "            \"date\": \"2020-01-01\",\n",
            "            \"title\": \"Effects of Topical Application of Betamethasone on Imiquimod-induced Psoriasis-like Skin Inflammation in Mice.\",\n",
            "            \"type\": \"PubMed\"\n",
            "        },\n",
            "        {\n",
            "            \"journal\": \"The journal of maternal-fetal & neonatal medicine\",\n",
            "            \"date\": \"2020-01-03\",\n",
            "            \"title\": \"Comparison of pressure BETAMETHASONE release, phonophoresis and dry needling in treatment of latent myofascial trigger point of upper trapezius ATROPINE muscle.\",\n",
            "            \"type\": \"PubMed\"\n",
            "        }\n",
            "    ],\n",
            "    \"TETRACYCLINE\": [\n",
            "        {\n",
            "            \"journal\": \"Journal of food protection\",\n",
            "            \"date\": \"2020-01-01\",\n",
            "            \"title\": \"Tetracycline Resistance Patterns of Lactobacillus buchneri Group Strains.\",\n",
            "            \"type\": \"PubMed\"\n",
            "        },\n",
            "        {\n",
            "            \"journal\": \"American journal of veterinary research\",\n",
            "            \"date\": \"2020-02-01\",\n",
            "            \"title\": \"Appositional Tetracycline bone formation rates in the Beagle.\",\n",
            "            \"type\": \"PubMed\"\n",
            "        },\n",
            "        {\n",
            "            \"journal\": \"Psychopharmacology\",\n",
            "            \"date\": NaN,\n",
            "            \"title\": \"Rapid reacquisition of contextual fear following extinction in mice: effects of amount of extinction, tetracycline acute ethanol withdrawal, and ethanol intoxication.\",\n",
            "            \"type\": \"PubMed\"\n",
            "        }\n",
            "    ],\n",
            "    \"ETHANOL\": [\n",
            "        {\n",
            "            \"journal\": \"Psychopharmacology\",\n",
            "            \"date\": NaN,\n",
            "            \"title\": \"Rapid reacquisition of contextual fear following extinction in mice: effects of amount of extinction, tetracycline acute ethanol withdrawal, and ethanol intoxication.\",\n",
            "            \"type\": \"PubMed\"\n",
            "        }\n",
            "    ],\n",
            "    \"ATROPINE\": [\n",
            "        {\n",
            "            \"journal\": \"The journal of maternal-fetal & neonatal medicine\",\n",
            "            \"date\": \"2020-01-03\",\n",
            "            \"title\": \"Comparison of pressure BETAMETHASONE release, phonophoresis and dry needling in treatment of latent myofascial trigger point of upper trapezius ATROPINE muscle.\",\n",
            "            \"type\": \"PubMed\"\n",
            "        }\n",
            "    ],\n",
            "    \"ISOPRENALINE\": [\n",
            "        {\n",
            "            \"journal\": \"Journal of photochemistry and photobiology. B, Biology\",\n",
            "            \"date\": \"2020-01-01\",\n",
            "            \"title\": \"Gold nanoparticles synthesized from Euphorbia fischeriana root by green route method alleviates the isoprenaline hydrochloride induced myocardial infarction in rats.\",\n",
            "            \"type\": \"PubMed\"\n",
            "        }\n",
            "    ]\n",
            "}\n",
            "Fichier JSON généré : mentions_graph_output.json\n"
          ]
        }
      ]
    },
    {
      "cell_type": "markdown",
      "source": [],
      "metadata": {
        "id": "SkdZLwm5Eh3R"
      }
    },
    {
      "cell_type": "markdown",
      "source": [
        "# Traitement ad-hoc\n",
        "\n",
        "Le nom du journal qui mentionne le plus de médicaments différents:\n"
      ],
      "metadata": {
        "id": "WJi1LZnsEiKL"
      }
    },
    {
      "cell_type": "code",
      "source": [
        "\n",
        "\n",
        "# Fonction pour trouver le journal qui mentionne le plus de médicaments différents\n",
        "def journal_with_most_drug_mentions(mentions_graph):\n",
        "    journal_dict = {}\n",
        "\n",
        "    # Parcourir chaque médicament et ses mentions\n",
        "    for drug, mentions in mentions_graph.items():\n",
        "        for mention in mentions:\n",
        "            journal = mention['journal']\n",
        "            # Ajouter le journal au dictionnaire\n",
        "            if journal not in journal_dict:\n",
        "                journal_dict[journal] = set() #set pour unicité des éléments\n",
        "            journal_dict[journal].add(drug)\n",
        "\n",
        "    # Trouver le journal avec le plus de médicaments différents\n",
        "    max_drugs_journal = max(journal_dict, key=lambda j: len(journal_dict[j]))\n",
        "    return max_drugs_journal, len(journal_dict[max_drugs_journal])\n"
      ],
      "metadata": {
        "id": "-OTJTuziE0Sk"
      },
      "execution_count": 53,
      "outputs": []
    },
    {
      "cell_type": "code",
      "source": [
        "\n",
        "with open('mentions_graph_output.json', 'r') as json_file:\n",
        "    mentions_graph = json.load(json_file)\n",
        "\n",
        "# Appel de la fonction pour trouver le journal avec le plus de mentions\n",
        "journal, count = journal_with_most_drug_mentions(mentions_graph)\n",
        "print(f\"Le journal qui mentionne le plus de médicaments différents est {journal} avec {count} médicaments mentionnés.\")"
      ],
      "metadata": {
        "colab": {
          "base_uri": "https://localhost:8080/"
        },
        "id": "hlYoRExoJKKm",
        "outputId": "e40630b3-60b0-4a66-fcb5-7c01412f8474"
      },
      "execution_count": 54,
      "outputs": [
        {
          "output_type": "stream",
          "name": "stdout",
          "text": [
            "Le journal qui mentionne le plus de médicaments différents est The journal of maternal-fetal & neonatal medicine avec 2 médicaments mentionnés.\n"
          ]
        }
      ]
    },
    {
      "cell_type": "markdown",
      "source": [
        "L’ensemble des médicaments mentionnés par les mêmes\n",
        "journaux référencés par les publications scientifiques (PubMed) mais non les tests cliniques (Clinical\n",
        "Trials):"
      ],
      "metadata": {
        "id": "om4JJKbOgZdC"
      }
    },
    {
      "cell_type": "code",
      "source": [
        "def drugs_in_same_pubmed_journals(drug, mentions_graph):\n",
        "    # Étape 1: Trouver les journaux dans lesquels le médicament donné est mentionné (seulement PubMed)\n",
        "    pubmed_journals = set()\n",
        "\n",
        "    # Parcourir les mentions pour le médicament donné\n",
        "    if drug in mentions_graph:\n",
        "        for mention in mentions_graph[drug]:\n",
        "            # Ne prendre en compte que les mentions dans PubMed\n",
        "            if mention['type'] == 'PubMed':\n",
        "                pubmed_journals.add(mention['journal'])\n",
        "\n",
        "    # Trouver les autres médicaments mentionnés dans ces journaux PubMed\n",
        "    other_mentionned_drugs = set()\n",
        "\n",
        "    # Parcourir les autres médicaments dans mentions_graph\n",
        "    for other_drug, mentions in mentions_graph.items():\n",
        "        if other_drug != drug:  # Exclure le médicament initial\n",
        "            for mention in mentions_graph[other_drug]:\n",
        "                # Vérifier si le médicament est mentionné dans les mêmes journaux, uniquement dans PubMed\n",
        "                if mention['journal'] in pubmed_journals and mention['type'] == 'PubMed':\n",
        "                    other_mentionned_drugs.add(other_drug)\n",
        "\n",
        "    return other_mentionned_drugs\n"
      ],
      "metadata": {
        "id": "oFUxjPx6gpt6"
      },
      "execution_count": 55,
      "outputs": []
    },
    {
      "cell_type": "code",
      "source": [
        "def load_mentions_graph(file_path):\n",
        "    with open(file_path, 'r') as json_file:\n",
        "        return json.load(json_file)\n",
        "\n",
        "mentions_graph = load_mentions_graph('mentions_graph_output.json')\n",
        "\n",
        "\n",
        "# Exemple d'application\n",
        "drug = 'TETRACYCLINE'\n",
        "other_mentionned_drugs = drugs_in_same_pubmed_journals(drug, mentions_graph)\n",
        "\n",
        "print(f\"Les médicaments mentionnés dans les mêmes journaux que {drug} (uniquement PubMed) sont : {other_mentionned_drugs}\")\n"
      ],
      "metadata": {
        "colab": {
          "base_uri": "https://localhost:8080/"
        },
        "id": "v4-t2iiFmpnQ",
        "outputId": "2a058da4-9dfb-4997-9f73-fba9230b2bc2"
      },
      "execution_count": 56,
      "outputs": [
        {
          "output_type": "stream",
          "name": "stdout",
          "text": [
            "Les médicaments mentionnés dans les mêmes journaux que TETRACYCLINE (uniquement PubMed) sont : {'ETHANOL'}\n"
          ]
        }
      ]
    },
    {
      "cell_type": "markdown",
      "source": [
        "# Pour aller plus loin\n"
      ],
      "metadata": {
        "id": "_QrwiNGvnknK"
      }
    },
    {
      "cell_type": "markdown",
      "source": [
        "# II) SQL\n",
        "\n",
        "Première partie du test:\n",
        "\n",
        "\n",
        "\n",
        "\n",
        "```\n",
        "SELECT date , SUM(prod_price*prod_qty) FROM TRANSACTIONS\n",
        "WHERE date BETWEEN '2020-01-01' AND '2020-12-31'\n",
        "GROUP BY date\n",
        "ORDER BY date ASC;\n",
        "```\n",
        "\n"
      ],
      "metadata": {
        "id": "ykf_BF_jn0-H"
      }
    },
    {
      "cell_type": "markdown",
      "source": [
        "Seconde partie du test\n",
        "\n",
        "\n",
        "\n",
        "```\n",
        "SELECT\n",
        "  t.client_id,\n",
        "  SUM(CASE WHEN pn.product_type = 'MEUBLE' THEN t.prod_price * t.prod_qty ELSE 0 END) AS ventes_meuble,\n",
        "  SUM(CASE WHEN pn.product_type = 'DECO' THEN t.prod_price * t.prod_qty ELSE 0 END) AS ventes_deco\n",
        "FROM\n",
        "  TRANSACTIONS t\n",
        "JOIN\n",
        "  PRODUCT_NOMENCLATURE pn\n",
        "ON\n",
        "  t.prod_id = pn.product_id\n",
        "GROUP BY\n",
        "  t.client_id\n",
        ";\n",
        "\n",
        "```\n",
        "\n"
      ],
      "metadata": {
        "id": "PHAN1cYstO5B"
      }
    }
  ]
}